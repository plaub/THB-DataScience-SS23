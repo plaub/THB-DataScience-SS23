{
 "cells": [
  {
   "attachments": {},
   "cell_type": "markdown",
   "metadata": {},
   "source": [
    "# 4. Python 4 Data Science Excercise"
   ]
  },
  {
   "attachments": {},
   "cell_type": "markdown",
   "metadata": {},
   "source": [
    "## 1. Write a NumPy program to get the indices of the sorted elements of a given array."
   ]
  },
  {
   "cell_type": "code",
   "execution_count": 1,
   "metadata": {},
   "outputs": [],
   "source": [
    "import numpy as np\n",
    "\n",
    "score = np.array([103, 1502, 6230, 3, 1682, 5241, 4532])"
   ]
  },
  {
   "attachments": {},
   "cell_type": "markdown",
   "metadata": {},
   "source": [
    "we can use argsort() function to get the indices of the sorted elements of a given array."
   ]
  },
  {
   "cell_type": "code",
   "execution_count": 2,
   "metadata": {},
   "outputs": [
    {
     "name": "stdout",
     "output_type": "stream",
     "text": [
      "[3 0 1 4 6 5 2]\n"
     ]
    }
   ],
   "source": [
    "sorted_indices = np.argsort(score)\n",
    "print(sorted_indices)"
   ]
  },
  {
   "attachments": {},
   "cell_type": "markdown",
   "metadata": {},
   "source": [
    "## 2. Do the following exercise in a Jupyter Notebook (a GitHub Link would be the best):\n",
    "### Load the countries.csv directly via URL import into your panda data frame!"
   ]
  },
  {
   "cell_type": "code",
   "execution_count": 3,
   "metadata": {},
   "outputs": [
    {
     "name": "stdout",
     "output_type": "stream",
     "text": [
      "        Name  Population     Area     GDP Currency\n",
      "0    Germany    82521653   357385  3466.0      EUR\n",
      "1      Japan   126045000   377835  4938.0      YEN\n",
      "2     Canada    36503097  9984670  1529.0      CAD\n",
      "3      Italy    60501718   301338  1850.0      EUR\n",
      "4   Brazilia   208360000  8515770  1798.0     REAL\n",
      "5     Taiwan    23938272    36197   744.0      NTD\n",
      "6  Venezuela    28208977   912050     NaN      VED\n"
     ]
    }
   ],
   "source": [
    "import pandas as pd\n",
    "\n",
    "countries = pd.read_csv(r'./country.csv')\n",
    "print(countries)"
   ]
  },
  {
   "attachments": {},
   "cell_type": "markdown",
   "metadata": {},
   "source": [
    "### Display some basic information as rows, columns, and statistical info."
   ]
  },
  {
   "cell_type": "code",
   "execution_count": 4,
   "metadata": {},
   "outputs": [
    {
     "name": "stdout",
     "output_type": "stream",
     "text": [
      "number of rows:  \n",
      "7\n",
      "number of columns:  \n",
      "5\n",
      "mean population:  \n",
      "80868388.14285715\n",
      "std population:  \n",
      "66701952.313208535\n",
      "median population:  \n",
      "60501718.0\n",
      "min population:  \n",
      "23938272\n",
      "25% population:  \n",
      "32356037.0\n",
      "50% population:  \n",
      "60501718.0\n",
      "75% population:  \n",
      "104283326.5\n",
      "max population:  \n",
      "208360000\n",
      "mean area:  \n",
      "2926463.5714285714\n",
      "std area:  \n",
      "4348507.096282464\n",
      "median area:  \n",
      "377835.0\n",
      "min area:  \n",
      "36197\n",
      "25% area:  \n",
      "329361.5\n",
      "50% area:  \n",
      "377835.0\n",
      "75% area:  \n",
      "4713910.0\n",
      "max area:  \n",
      "9984670\n",
      "mean gdp:  \n",
      "2387.5\n",
      "std gdp:  \n",
      "1532.4975367027512\n",
      "median gdp:  \n",
      "1824.0\n",
      "min gdp:  \n",
      "744.0\n",
      "25% gdp:  \n",
      "1596.25\n",
      "50% gdp:  \n",
      "1824.0\n",
      "75% gdp:  \n",
      "3062.0\n",
      "max gdp:  \n",
      "4938.0\n"
     ]
    }
   ],
   "source": [
    "# number of rows\n",
    "nr_rows = countries.shape[0]\n",
    "print(\"number of rows:\", \" \")\n",
    "print(nr_rows)\n",
    "\n",
    "# number of columns\n",
    "nr_cols = countries.shape[1]\n",
    "print(\"number of columns:\", \" \")\n",
    "print(nr_cols)\n",
    "\n",
    "# mean population\n",
    "mean_population = countries['Population'].mean()\n",
    "print(\"mean population:\", \" \")\n",
    "print(mean_population)\n",
    "\n",
    "# std population\n",
    "std_population = countries['Population'].std()\n",
    "print(\"std population:\", \" \")\n",
    "print(std_population)\n",
    "\n",
    "# median population\n",
    "median_population = countries['Population'].median()\n",
    "print(\"median population:\", \" \")\n",
    "print(median_population)\n",
    "\n",
    "# min population\n",
    "min_population = countries['Population'].min()\n",
    "print(\"min population:\", \" \")\n",
    "print(min_population)\n",
    "\n",
    "# 25% population\n",
    "population_25 = countries['Population'].quantile(0.25)\n",
    "print(\"25% population:\", \" \")\n",
    "print(population_25)\n",
    "\n",
    "# 50% population\n",
    "population_50 = countries['Population'].quantile(0.50)\n",
    "print(\"50% population:\", \" \")\n",
    "print(population_50)\n",
    "\n",
    "# 75% population\n",
    "population_75 = countries['Population'].quantile(0.75)\n",
    "print(\"75% population:\", \" \")\n",
    "print(population_75)\n",
    "\n",
    "# max population\n",
    "max_population = countries['Population'].max()\n",
    "print(\"max population:\", \" \")\n",
    "print(max_population)\n",
    "\n",
    "# mean area\n",
    "mean_area = countries['Area'].mean()\n",
    "print(\"mean area:\", \" \")\n",
    "print(mean_area)\n",
    "\n",
    "# std area\n",
    "std_area = countries['Area'].std()\n",
    "print(\"std area:\", \" \")\n",
    "print(std_area)\n",
    "\n",
    "# median area\n",
    "median_area = countries['Area'].median()\n",
    "print(\"median area:\", \" \")\n",
    "print(median_area)\n",
    "\n",
    "# min area\n",
    "min_area = countries['Area'].min()\n",
    "print(\"min area:\", \" \")\n",
    "print(min_area)\n",
    "\n",
    "# 25% area\n",
    "area_25 = countries['Area'].quantile(0.25)\n",
    "print(\"25% area:\", \" \")\n",
    "print(area_25)\n",
    "\n",
    "# 50% area\n",
    "area_50 = countries['Area'].quantile(0.50)\n",
    "print(\"50% area:\", \" \")\n",
    "print(area_50)\n",
    "\n",
    "# 75% area\n",
    "area_75 = countries['Area'].quantile(0.75)\n",
    "print(\"75% area:\", \" \")\n",
    "print(area_75)\n",
    "\n",
    "# max area\n",
    "max_area = countries['Area'].max()\n",
    "print(\"max area:\", \" \")\n",
    "print(max_area)\n",
    "\n",
    "# mean gdp\n",
    "mean_gdp = countries['GDP'].mean()\n",
    "print(\"mean gdp:\", \" \")\n",
    "print(mean_gdp)\n",
    "\n",
    "# std gdp\n",
    "std_gdp = countries['GDP'].std()\n",
    "print(\"std gdp:\", \" \")\n",
    "print(std_gdp)\n",
    "\n",
    "# median gdp\n",
    "median_gdp = countries['GDP'].median()\n",
    "print(\"median gdp:\", \" \")\n",
    "print(median_gdp)\n",
    "\n",
    "# min gdp\n",
    "min_gdp = countries['GDP'].min()\n",
    "print(\"min gdp:\", \" \")\n",
    "print(min_gdp)\n",
    "\n",
    "# 25% gdp\n",
    "gdp_25 = countries['GDP'].quantile(0.25)\n",
    "print(\"25% gdp:\", \" \")\n",
    "print(gdp_25)\n",
    "\n",
    "# 50% gdp\n",
    "gdp_50 = countries['GDP'].quantile(0.50)\n",
    "print(\"50% gdp:\", \" \")\n",
    "print(gdp_50)\n",
    "\n",
    "# 75% gdp\n",
    "gdp_75 = countries['GDP'].quantile(0.75)\n",
    "print(\"75% gdp:\", \" \")\n",
    "print(gdp_75)\n",
    "\n",
    "# max gdp\n",
    "max_gdp = countries['GDP'].max()\n",
    "print(\"max gdp:\", \" \")\n",
    "print(max_gdp)\n"
   ]
  },
  {
   "attachments": {},
   "cell_type": "markdown",
   "metadata": {},
   "source": [
    "### Show the last 4 rows of the data frame."
   ]
  },
  {
   "cell_type": "code",
   "execution_count": 5,
   "metadata": {},
   "outputs": [
    {
     "name": "stdout",
     "output_type": "stream",
     "text": [
      "        Name  Population     Area     GDP Currency\n",
      "3      Italy    60501718   301338  1850.0      EUR\n",
      "4   Brazilia   208360000  8515770  1798.0     REAL\n",
      "5     Taiwan    23938272    36197   744.0      NTD\n",
      "6  Venezuela    28208977   912050     NaN      VED\n"
     ]
    }
   ],
   "source": [
    "last_4_rows = countries.tail(4)\n",
    "print(last_4_rows)"
   ]
  },
  {
   "attachments": {},
   "cell_type": "markdown",
   "metadata": {},
   "source": [
    "### Show all the rows of countries that have the EURO"
   ]
  },
  {
   "cell_type": "code",
   "execution_count": 6,
   "metadata": {},
   "outputs": [
    {
     "name": "stdout",
     "output_type": "stream",
     "text": [
      "      Name  Population    Area     GDP Currency\n",
      "0  Germany    82521653  357385  3466.0      EUR\n",
      "3    Italy    60501718  301338  1850.0      EUR\n"
     ]
    }
   ],
   "source": [
    "only_eur = countries[countries['Currency'] == 'EUR']\n",
    "print(only_eur)"
   ]
  },
  {
   "attachments": {},
   "cell_type": "markdown",
   "metadata": {},
   "source": [
    "### Show only name and Currency in a new data frame"
   ]
  },
  {
   "cell_type": "code",
   "execution_count": 7,
   "metadata": {},
   "outputs": [
    {
     "name": "stdout",
     "output_type": "stream",
     "text": [
      "        Name Currency\n",
      "0    Germany      EUR\n",
      "1      Japan      YEN\n",
      "2     Canada      CAD\n",
      "3      Italy      EUR\n",
      "4   Brazilia     REAL\n",
      "5     Taiwan      NTD\n",
      "6  Venezuela      VED\n"
     ]
    }
   ],
   "source": [
    "only_name_and_currency = countries[['Name', 'Currency']]\n",
    "print(only_name_and_currency)"
   ]
  },
  {
   "attachments": {},
   "cell_type": "markdown",
   "metadata": {},
   "source": [
    "### Show only the rows/countries that have more than 2000 GDP (it is in Milliarden USD Bruttoinlandsprodukt)"
   ]
  },
  {
   "cell_type": "code",
   "execution_count": 8,
   "metadata": {},
   "outputs": [
    {
     "name": "stdout",
     "output_type": "stream",
     "text": [
      "      Name  Population    Area     GDP Currency\n",
      "0  Germany    82521653  357385  3466.0      EUR\n",
      "1    Japan   126045000  377835  4938.0      YEN\n"
     ]
    }
   ],
   "source": [
    "gdp_bigger_2000 = countries[countries['GDP'] > 2000]\n",
    "print(gdp_bigger_2000)"
   ]
  },
  {
   "attachments": {},
   "cell_type": "markdown",
   "metadata": {},
   "source": [
    "### Select all countries where with inhabitants between 50 and 150 Mio"
   ]
  },
  {
   "cell_type": "code",
   "execution_count": 9,
   "metadata": {},
   "outputs": [
    {
     "name": "stdout",
     "output_type": "stream",
     "text": [
      "      Name  Population    Area     GDP Currency\n",
      "0  Germany    82521653  357385  3466.0      EUR\n",
      "1    Japan   126045000  377835  4938.0      YEN\n",
      "3    Italy    60501718  301338  1850.0      EUR\n"
     ]
    }
   ],
   "source": [
    "inhabitants_between_50_and_150 = countries[(countries['Population'] > 50000000) & (countries['Population'] < 150000000)]\n",
    "print(inhabitants_between_50_and_150)"
   ]
  },
  {
   "attachments": {},
   "cell_type": "markdown",
   "metadata": {},
   "source": [
    "### Calculate the GDP average (ignore the missing value)"
   ]
  },
  {
   "cell_type": "code",
   "execution_count": 10,
   "metadata": {},
   "outputs": [
    {
     "name": "stdout",
     "output_type": "stream",
     "text": [
      "2387.5\n"
     ]
    }
   ],
   "source": [
    "gdp_avg_without_empty = countries['GDP'].mean(skipna = True)\n",
    "print(gdp_avg_without_empty)"
   ]
  },
  {
   "attachments": {},
   "cell_type": "markdown",
   "metadata": {},
   "source": [
    "### Calculate the GDP average (missing value treated as 0)"
   ]
  },
  {
   "cell_type": "code",
   "execution_count": 11,
   "metadata": {},
   "outputs": [
    {
     "name": "stdout",
     "output_type": "stream",
     "text": [
      "2046.4285714285713\n"
     ]
    }
   ],
   "source": [
    "gdp_avg = countries['GDP'].fillna(0).mean()\n",
    "print(gdp_avg)"
   ]
  },
  {
   "attachments": {},
   "cell_type": "markdown",
   "metadata": {},
   "source": [
    "### Calculate the population density (population/area)  of all countries and add as new column"
   ]
  },
  {
   "cell_type": "code",
   "execution_count": 12,
   "metadata": {},
   "outputs": [
    {
     "name": "stdout",
     "output_type": "stream",
     "text": [
      "        Name  Population     Area     GDP Currency     Density\n",
      "0    Germany    82521653   357385  3466.0      EUR  230.904075\n",
      "1      Japan   126045000   377835  4938.0      YEN  333.597999\n",
      "2     Canada    36503097  9984670  1529.0      CAD    3.655914\n",
      "3      Italy    60501718   301338  1850.0      EUR  200.776928\n",
      "4   Brazilia   208360000  8515770  1798.0     REAL   24.467547\n",
      "5     Taiwan    23938272    36197   744.0      NTD  661.333039\n",
      "6  Venezuela    28208977   912050     NaN      VED   30.929200\n"
     ]
    }
   ],
   "source": [
    "density_population_area = countries['Population'] / countries['Area']\n",
    "countries['Density'] = density_population_area\n",
    "print(countries)"
   ]
  },
  {
   "attachments": {},
   "cell_type": "markdown",
   "metadata": {},
   "source": [
    "### Sort by country name alphabetically"
   ]
  },
  {
   "cell_type": "code",
   "execution_count": 13,
   "metadata": {},
   "outputs": [
    {
     "name": "stdout",
     "output_type": "stream",
     "text": [
      "        Name  Population     Area     GDP Currency     Density\n",
      "4   Brazilia   208360000  8515770  1798.0     REAL   24.467547\n",
      "2     Canada    36503097  9984670  1529.0      CAD    3.655914\n",
      "0    Germany    82521653   357385  3466.0      EUR  230.904075\n",
      "3      Italy    60501718   301338  1850.0      EUR  200.776928\n",
      "1      Japan   126045000   377835  4938.0      YEN  333.597999\n",
      "5     Taiwan    23938272    36197   744.0      NTD  661.333039\n",
      "6  Venezuela    28208977   912050     NaN      VED   30.929200\n"
     ]
    }
   ],
   "source": [
    "sorted_by_name = countries.sort_values(by = 'Name')\n",
    "print(sorted_by_name)"
   ]
  },
  {
   "attachments": {},
   "cell_type": "markdown",
   "metadata": {},
   "source": [
    "### Create a new data frame from the original where the area is changed: all countries with > 1000000 get BIG and <= 1000000 get SMALL in the cell replaced!"
   ]
  },
  {
   "cell_type": "code",
   "execution_count": 14,
   "metadata": {},
   "outputs": [
    {
     "name": "stdout",
     "output_type": "stream",
     "text": [
      "        Name  Population   Area     GDP Currency     Density\n",
      "0    Germany    82521653  SMALL  3466.0      EUR  230.904075\n",
      "1      Japan   126045000  SMALL  4938.0      YEN  333.597999\n",
      "2     Canada    36503097    BIG  1529.0      CAD    3.655914\n",
      "3      Italy    60501718  SMALL  1850.0      EUR  200.776928\n",
      "4   Brazilia   208360000    BIG  1798.0     REAL   24.467547\n",
      "5     Taiwan    23938272  SMALL   744.0      NTD  661.333039\n",
      "6  Venezuela    28208977  SMALL     NaN      VED   30.929200\n"
     ]
    }
   ],
   "source": [
    "countries['Area'] = np.where(countries['Area'] > 1000000, 'BIG', 'SMALL')\n",
    "print(countries)"
   ]
  }
 ],
 "metadata": {
  "kernelspec": {
   "display_name": "base",
   "language": "python",
   "name": "python3"
  },
  "language_info": {
   "codemirror_mode": {
    "name": "ipython",
    "version": 3
   },
   "file_extension": ".py",
   "mimetype": "text/x-python",
   "name": "python",
   "nbconvert_exporter": "python",
   "pygments_lexer": "ipython3",
   "version": "3.9.13"
  },
  "orig_nbformat": 4
 },
 "nbformat": 4,
 "nbformat_minor": 2
}
